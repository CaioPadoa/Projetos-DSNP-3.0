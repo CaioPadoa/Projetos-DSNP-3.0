{
  "nbformat": 4,
  "nbformat_minor": 0,
  "metadata": {
    "colab": {
      "name": "PROJETO DSNP 3.0 - [Template] Churn Prediction para uma empresa de Telecomunicações.ipynb",
      "provenance": [],
      "collapsed_sections": [],
      "toc_visible": true,
      "include_colab_link": true
    },
    "kernelspec": {
      "name": "python3",
      "display_name": "Python 3"
    }
  },
  "cells": [
    {
      "cell_type": "markdown",
      "metadata": {
        "id": "view-in-github",
        "colab_type": "text"
      },
      "source": [
        "<a href=\"https://colab.research.google.com/github/CaioPadoa/Projetos-DSNP-3.0/blob/main/Churn%20Prediction%20para%20empresas%20de%20telecomunica%C3%A7%C3%B5es%20-%20DSNP%203.ipynb\" target=\"_parent\"><img src=\"https://colab.research.google.com/assets/colab-badge.svg\" alt=\"Open In Colab\"/></a>"
      ]
    },
    {
      "cell_type": "markdown",
      "metadata": {
        "id": "sC2BFMOKN1M7"
      },
      "source": [
        "---\n",
        "<img alt=\"Colaboratory logo\" width=\"15%\" src=\"https://raw.githubusercontent.com/carlosfab/escola-data-science/master/img/novo_logo_bg_claro.png\">\n",
        "\n",
        "#### **Data Science na Prática 3.0**\n",
        "*by [sigmoidal.ai](https://sigmoidal.ai)*  \n",
        "\n",
        "---"
      ]
    },
    {
      "cell_type": "markdown",
      "metadata": {
        "id": "IR56trFcPcC1"
      },
      "source": [
        "# Churn Prediction\n",
        "\n",
        "*Churn rate*, ou simplesmente *churn*, representa a taxa de evasão da sua base de clientes. Em serviços como Spotify ou Netflix, ela representaria a taxa de cancelamento de assinaturas.\n",
        "\n",
        "<p align=center>\n",
        "<img src=\"https://raw.githubusercontent.com/carlosfab/dsnp2/master/img/churnrate.jpg\" width=\"60%\"></p>\n",
        "\n",
        "Ela é de extrema importância para a administração e sua análise ao longo do tempo pode mostrar que existe algum problema que deve ser atacado.\n",
        "\n",
        "*Churn* também pode ser usado para identificar potenciais cancelamentos, com um tempo de antecedência, e promover ações direcionadas para tentar reter tais clientes. Essa métrica deve receber atenção pelo fato de que o Custo de Aquisição de Cliente (CAC) é normalmente mais alto que o custo para mantê-los. Ou seja, um alto valor para o *churn rate* é o que não desejamos."
      ]
    },
    {
      "cell_type": "markdown",
      "metadata": {
        "id": "0HVmpIxQWT4Y"
      },
      "source": [
        "## Aquisição dos Dados\n",
        "\n",
        "Os dados utilizados neste projeto foram originalmente disponibilizados na [plataforma de ensino da IBM Developer](https://developer.ibm.com/technologies/data-science/patterns/predict-customer-churn-using-watson-studio-and-jupyter-notebooks/#), e tratam de um problema típico de uma companhia de telecomunicações. O *dataset* completo pode ser encontrado [neste link](https://raw.githubusercontent.com/carlosfab/dsnp2/master/datasets/WA_Fn-UseC_-Telco-Customer-Churn.csv).\n",
        "\n",
        "Apesar de não haver informações explícitas disponíves, os nomes das colunas permitem um entendimento a respeito do problema."
      ]
    },
    {
      "cell_type": "code",
      "metadata": {
        "id": "oQ4bNy7udtEE",
        "colab": {
          "base_uri": "https://localhost:8080/",
          "height": 386
        },
        "outputId": "7d5d4e5d-0d22-49f9-f353-9e9efc9ed555"
      },
      "source": [
        "# importar os pacotes necessários\n",
        "!pip install scikit-plot -q\n",
        "import pandas as pd\n",
        "import numpy as np\n",
        "import matplotlib.pyplot as plt\n",
        "import seaborn as sns\n",
        "from imblearn.under_sampling import RandomUnderSampler\n",
        "from sklearn.compose import ColumnTransformer\n",
        "from sklearn.metrics import roc_auc_score, accuracy_score, f1_score, confusion_matrix, classification_report\n",
        "from scikitplot.metrics import plot_confusion_matrix, plot_roc\n",
        "from sklearn.preprocessing import StandardScaler, LabelEncoder, OneHotEncoder\n",
        "from sklearn.pipeline import make_pipeline\n",
        "from sklearn.model_selection import train_test_split\n",
        "from sklearn.model_selection import cross_val_score\n",
        "from sklearn.model_selection import StratifiedKFold\n",
        "from sklearn.model_selection import GridSearchCV\n",
        "from sklearn.svm import SVC\n",
        "from lightgbm import LGBMClassifier\n",
        "from sklearn.linear_model import SGDClassifier\n",
        "from sklearn.tree import DecisionTreeClassifier\n",
        "from sklearn.linear_model import LogisticRegression\n",
        "from xgboost import XGBClassifier\n",
        "from sklearn.ensemble import RandomForestClassifier\n",
        "from xgboost import XGBClassifier\n",
        "from sklearn.model_selection import RandomizedSearchCV\n",
        "import warnings\n",
        "warnings.simplefilter(action='ignore', category=FutureWarning)\n",
        "import warnings\n",
        "warnings.simplefilter(\"ignore\", UserWarning)\n",
        "\n",
        "# importar os dados\n",
        "DATA_PATH = \"https://raw.githubusercontent.com/carlosfab/dsnp2/master/datasets/WA_Fn-UseC_-Telco-Customer-Churn.csv\"\n",
        "df_raw = pd.read_csv(DATA_PATH)\n",
        "\n",
        "# ver as 5 primeiras entradas\n",
        "df_raw.head()"
      ],
      "execution_count": 1,
      "outputs": [
        {
          "output_type": "execute_result",
          "data": {
            "text/plain": [
              "   customerID  gender  SeniorCitizen Partner Dependents  tenure PhoneService  \\\n",
              "0  7590-VHVEG  Female              0     Yes         No       1           No   \n",
              "1  5575-GNVDE    Male              0      No         No      34          Yes   \n",
              "2  3668-QPYBK    Male              0      No         No       2          Yes   \n",
              "3  7795-CFOCW    Male              0      No         No      45           No   \n",
              "4  9237-HQITU  Female              0      No         No       2          Yes   \n",
              "\n",
              "      MultipleLines InternetService OnlineSecurity  ... DeviceProtection  \\\n",
              "0  No phone service             DSL             No  ...               No   \n",
              "1                No             DSL            Yes  ...              Yes   \n",
              "2                No             DSL            Yes  ...               No   \n",
              "3  No phone service             DSL            Yes  ...              Yes   \n",
              "4                No     Fiber optic             No  ...               No   \n",
              "\n",
              "  TechSupport StreamingTV StreamingMovies        Contract PaperlessBilling  \\\n",
              "0          No          No              No  Month-to-month              Yes   \n",
              "1          No          No              No        One year               No   \n",
              "2          No          No              No  Month-to-month              Yes   \n",
              "3         Yes          No              No        One year               No   \n",
              "4          No          No              No  Month-to-month              Yes   \n",
              "\n",
              "               PaymentMethod MonthlyCharges  TotalCharges Churn  \n",
              "0           Electronic check          29.85         29.85    No  \n",
              "1               Mailed check          56.95        1889.5    No  \n",
              "2               Mailed check          53.85        108.15   Yes  \n",
              "3  Bank transfer (automatic)          42.30       1840.75    No  \n",
              "4           Electronic check          70.70        151.65   Yes  \n",
              "\n",
              "[5 rows x 21 columns]"
            ],
            "text/html": [
              "\n",
              "  <div id=\"df-038d972a-5da2-4149-86ac-49e7831d8108\">\n",
              "    <div class=\"colab-df-container\">\n",
              "      <div>\n",
              "<style scoped>\n",
              "    .dataframe tbody tr th:only-of-type {\n",
              "        vertical-align: middle;\n",
              "    }\n",
              "\n",
              "    .dataframe tbody tr th {\n",
              "        vertical-align: top;\n",
              "    }\n",
              "\n",
              "    .dataframe thead th {\n",
              "        text-align: right;\n",
              "    }\n",
              "</style>\n",
              "<table border=\"1\" class=\"dataframe\">\n",
              "  <thead>\n",
              "    <tr style=\"text-align: right;\">\n",
              "      <th></th>\n",
              "      <th>customerID</th>\n",
              "      <th>gender</th>\n",
              "      <th>SeniorCitizen</th>\n",
              "      <th>Partner</th>\n",
              "      <th>Dependents</th>\n",
              "      <th>tenure</th>\n",
              "      <th>PhoneService</th>\n",
              "      <th>MultipleLines</th>\n",
              "      <th>InternetService</th>\n",
              "      <th>OnlineSecurity</th>\n",
              "      <th>...</th>\n",
              "      <th>DeviceProtection</th>\n",
              "      <th>TechSupport</th>\n",
              "      <th>StreamingTV</th>\n",
              "      <th>StreamingMovies</th>\n",
              "      <th>Contract</th>\n",
              "      <th>PaperlessBilling</th>\n",
              "      <th>PaymentMethod</th>\n",
              "      <th>MonthlyCharges</th>\n",
              "      <th>TotalCharges</th>\n",
              "      <th>Churn</th>\n",
              "    </tr>\n",
              "  </thead>\n",
              "  <tbody>\n",
              "    <tr>\n",
              "      <th>0</th>\n",
              "      <td>7590-VHVEG</td>\n",
              "      <td>Female</td>\n",
              "      <td>0</td>\n",
              "      <td>Yes</td>\n",
              "      <td>No</td>\n",
              "      <td>1</td>\n",
              "      <td>No</td>\n",
              "      <td>No phone service</td>\n",
              "      <td>DSL</td>\n",
              "      <td>No</td>\n",
              "      <td>...</td>\n",
              "      <td>No</td>\n",
              "      <td>No</td>\n",
              "      <td>No</td>\n",
              "      <td>No</td>\n",
              "      <td>Month-to-month</td>\n",
              "      <td>Yes</td>\n",
              "      <td>Electronic check</td>\n",
              "      <td>29.85</td>\n",
              "      <td>29.85</td>\n",
              "      <td>No</td>\n",
              "    </tr>\n",
              "    <tr>\n",
              "      <th>1</th>\n",
              "      <td>5575-GNVDE</td>\n",
              "      <td>Male</td>\n",
              "      <td>0</td>\n",
              "      <td>No</td>\n",
              "      <td>No</td>\n",
              "      <td>34</td>\n",
              "      <td>Yes</td>\n",
              "      <td>No</td>\n",
              "      <td>DSL</td>\n",
              "      <td>Yes</td>\n",
              "      <td>...</td>\n",
              "      <td>Yes</td>\n",
              "      <td>No</td>\n",
              "      <td>No</td>\n",
              "      <td>No</td>\n",
              "      <td>One year</td>\n",
              "      <td>No</td>\n",
              "      <td>Mailed check</td>\n",
              "      <td>56.95</td>\n",
              "      <td>1889.5</td>\n",
              "      <td>No</td>\n",
              "    </tr>\n",
              "    <tr>\n",
              "      <th>2</th>\n",
              "      <td>3668-QPYBK</td>\n",
              "      <td>Male</td>\n",
              "      <td>0</td>\n",
              "      <td>No</td>\n",
              "      <td>No</td>\n",
              "      <td>2</td>\n",
              "      <td>Yes</td>\n",
              "      <td>No</td>\n",
              "      <td>DSL</td>\n",
              "      <td>Yes</td>\n",
              "      <td>...</td>\n",
              "      <td>No</td>\n",
              "      <td>No</td>\n",
              "      <td>No</td>\n",
              "      <td>No</td>\n",
              "      <td>Month-to-month</td>\n",
              "      <td>Yes</td>\n",
              "      <td>Mailed check</td>\n",
              "      <td>53.85</td>\n",
              "      <td>108.15</td>\n",
              "      <td>Yes</td>\n",
              "    </tr>\n",
              "    <tr>\n",
              "      <th>3</th>\n",
              "      <td>7795-CFOCW</td>\n",
              "      <td>Male</td>\n",
              "      <td>0</td>\n",
              "      <td>No</td>\n",
              "      <td>No</td>\n",
              "      <td>45</td>\n",
              "      <td>No</td>\n",
              "      <td>No phone service</td>\n",
              "      <td>DSL</td>\n",
              "      <td>Yes</td>\n",
              "      <td>...</td>\n",
              "      <td>Yes</td>\n",
              "      <td>Yes</td>\n",
              "      <td>No</td>\n",
              "      <td>No</td>\n",
              "      <td>One year</td>\n",
              "      <td>No</td>\n",
              "      <td>Bank transfer (automatic)</td>\n",
              "      <td>42.30</td>\n",
              "      <td>1840.75</td>\n",
              "      <td>No</td>\n",
              "    </tr>\n",
              "    <tr>\n",
              "      <th>4</th>\n",
              "      <td>9237-HQITU</td>\n",
              "      <td>Female</td>\n",
              "      <td>0</td>\n",
              "      <td>No</td>\n",
              "      <td>No</td>\n",
              "      <td>2</td>\n",
              "      <td>Yes</td>\n",
              "      <td>No</td>\n",
              "      <td>Fiber optic</td>\n",
              "      <td>No</td>\n",
              "      <td>...</td>\n",
              "      <td>No</td>\n",
              "      <td>No</td>\n",
              "      <td>No</td>\n",
              "      <td>No</td>\n",
              "      <td>Month-to-month</td>\n",
              "      <td>Yes</td>\n",
              "      <td>Electronic check</td>\n",
              "      <td>70.70</td>\n",
              "      <td>151.65</td>\n",
              "      <td>Yes</td>\n",
              "    </tr>\n",
              "  </tbody>\n",
              "</table>\n",
              "<p>5 rows × 21 columns</p>\n",
              "</div>\n",
              "      <button class=\"colab-df-convert\" onclick=\"convertToInteractive('df-038d972a-5da2-4149-86ac-49e7831d8108')\"\n",
              "              title=\"Convert this dataframe to an interactive table.\"\n",
              "              style=\"display:none;\">\n",
              "        \n",
              "  <svg xmlns=\"http://www.w3.org/2000/svg\" height=\"24px\"viewBox=\"0 0 24 24\"\n",
              "       width=\"24px\">\n",
              "    <path d=\"M0 0h24v24H0V0z\" fill=\"none\"/>\n",
              "    <path d=\"M18.56 5.44l.94 2.06.94-2.06 2.06-.94-2.06-.94-.94-2.06-.94 2.06-2.06.94zm-11 1L8.5 8.5l.94-2.06 2.06-.94-2.06-.94L8.5 2.5l-.94 2.06-2.06.94zm10 10l.94 2.06.94-2.06 2.06-.94-2.06-.94-.94-2.06-.94 2.06-2.06.94z\"/><path d=\"M17.41 7.96l-1.37-1.37c-.4-.4-.92-.59-1.43-.59-.52 0-1.04.2-1.43.59L10.3 9.45l-7.72 7.72c-.78.78-.78 2.05 0 2.83L4 21.41c.39.39.9.59 1.41.59.51 0 1.02-.2 1.41-.59l7.78-7.78 2.81-2.81c.8-.78.8-2.07 0-2.86zM5.41 20L4 18.59l7.72-7.72 1.47 1.35L5.41 20z\"/>\n",
              "  </svg>\n",
              "      </button>\n",
              "      \n",
              "  <style>\n",
              "    .colab-df-container {\n",
              "      display:flex;\n",
              "      flex-wrap:wrap;\n",
              "      gap: 12px;\n",
              "    }\n",
              "\n",
              "    .colab-df-convert {\n",
              "      background-color: #E8F0FE;\n",
              "      border: none;\n",
              "      border-radius: 50%;\n",
              "      cursor: pointer;\n",
              "      display: none;\n",
              "      fill: #1967D2;\n",
              "      height: 32px;\n",
              "      padding: 0 0 0 0;\n",
              "      width: 32px;\n",
              "    }\n",
              "\n",
              "    .colab-df-convert:hover {\n",
              "      background-color: #E2EBFA;\n",
              "      box-shadow: 0px 1px 2px rgba(60, 64, 67, 0.3), 0px 1px 3px 1px rgba(60, 64, 67, 0.15);\n",
              "      fill: #174EA6;\n",
              "    }\n",
              "\n",
              "    [theme=dark] .colab-df-convert {\n",
              "      background-color: #3B4455;\n",
              "      fill: #D2E3FC;\n",
              "    }\n",
              "\n",
              "    [theme=dark] .colab-df-convert:hover {\n",
              "      background-color: #434B5C;\n",
              "      box-shadow: 0px 1px 3px 1px rgba(0, 0, 0, 0.15);\n",
              "      filter: drop-shadow(0px 1px 2px rgba(0, 0, 0, 0.3));\n",
              "      fill: #FFFFFF;\n",
              "    }\n",
              "  </style>\n",
              "\n",
              "      <script>\n",
              "        const buttonEl =\n",
              "          document.querySelector('#df-038d972a-5da2-4149-86ac-49e7831d8108 button.colab-df-convert');\n",
              "        buttonEl.style.display =\n",
              "          google.colab.kernel.accessAllowed ? 'block' : 'none';\n",
              "\n",
              "        async function convertToInteractive(key) {\n",
              "          const element = document.querySelector('#df-038d972a-5da2-4149-86ac-49e7831d8108');\n",
              "          const dataTable =\n",
              "            await google.colab.kernel.invokeFunction('convertToInteractive',\n",
              "                                                     [key], {});\n",
              "          if (!dataTable) return;\n",
              "\n",
              "          const docLinkHtml = 'Like what you see? Visit the ' +\n",
              "            '<a target=\"_blank\" href=https://colab.research.google.com/notebooks/data_table.ipynb>data table notebook</a>'\n",
              "            + ' to learn more about interactive tables.';\n",
              "          element.innerHTML = '';\n",
              "          dataTable['output_type'] = 'display_data';\n",
              "          await google.colab.output.renderOutput(dataTable, element);\n",
              "          const docLink = document.createElement('div');\n",
              "          docLink.innerHTML = docLinkHtml;\n",
              "          element.appendChild(docLink);\n",
              "        }\n",
              "      </script>\n",
              "    </div>\n",
              "  </div>\n",
              "  "
            ]
          },
          "metadata": {},
          "execution_count": 1
        }
      ]
    },
    {
      "cell_type": "code",
      "source": [
        "df_raw.shape"
      ],
      "metadata": {
        "colab": {
          "base_uri": "https://localhost:8080/"
        },
        "id": "TAglE6gTWtBy",
        "outputId": "20ca2ff8-cfe4-4e05-aba1-c52994ab54cb"
      },
      "execution_count": 2,
      "outputs": [
        {
          "output_type": "execute_result",
          "data": {
            "text/plain": [
              "(7043, 21)"
            ]
          },
          "metadata": {},
          "execution_count": 2
        }
      ]
    },
    {
      "cell_type": "code",
      "source": [
        "df_raw.info()"
      ],
      "metadata": {
        "colab": {
          "base_uri": "https://localhost:8080/"
        },
        "id": "g4P-gp6xWttU",
        "outputId": "98f2bf15-6e51-4e5a-e41c-2b840b2e0154"
      },
      "execution_count": 3,
      "outputs": [
        {
          "output_type": "stream",
          "name": "stdout",
          "text": [
            "<class 'pandas.core.frame.DataFrame'>\n",
            "RangeIndex: 7043 entries, 0 to 7042\n",
            "Data columns (total 21 columns):\n",
            " #   Column            Non-Null Count  Dtype  \n",
            "---  ------            --------------  -----  \n",
            " 0   customerID        7043 non-null   object \n",
            " 1   gender            7043 non-null   object \n",
            " 2   SeniorCitizen     7043 non-null   int64  \n",
            " 3   Partner           7043 non-null   object \n",
            " 4   Dependents        7043 non-null   object \n",
            " 5   tenure            7043 non-null   int64  \n",
            " 6   PhoneService      7043 non-null   object \n",
            " 7   MultipleLines     7043 non-null   object \n",
            " 8   InternetService   7043 non-null   object \n",
            " 9   OnlineSecurity    7043 non-null   object \n",
            " 10  OnlineBackup      7043 non-null   object \n",
            " 11  DeviceProtection  7043 non-null   object \n",
            " 12  TechSupport       7043 non-null   object \n",
            " 13  StreamingTV       7043 non-null   object \n",
            " 14  StreamingMovies   7043 non-null   object \n",
            " 15  Contract          7043 non-null   object \n",
            " 16  PaperlessBilling  7043 non-null   object \n",
            " 17  PaymentMethod     7043 non-null   object \n",
            " 18  MonthlyCharges    7043 non-null   float64\n",
            " 19  TotalCharges      7043 non-null   object \n",
            " 20  Churn             7043 non-null   object \n",
            "dtypes: float64(1), int64(2), object(18)\n",
            "memory usage: 1.1+ MB\n"
          ]
        }
      ]
    },
    {
      "cell_type": "markdown",
      "source": [
        "Logo de cara, foi possível identificar dois pontos importantes:\n",
        "\n",
        "* Variável `customerID` não é relevante para a nossa análise\n",
        "* `TotalCharges` está definida como 'object', e o correto é 'float'. Precisaremos fazer uma correção"
      ],
      "metadata": {
        "id": "3Lqe2eT9iipO"
      }
    },
    {
      "cell_type": "code",
      "source": [
        "df_intermediate = df_raw.copy()\n",
        "\n",
        "def convert(entrada):\n",
        "  try:\n",
        "    return float(entrada)\n",
        "  except ValueError:\n",
        "    return np.nan\n",
        "\n",
        "df_intermediate.drop(\"customerID\", axis = 1, inplace = True)\n",
        "df_intermediate.TotalCharges = df_intermediate.TotalCharges.apply(convert)\n",
        "\n",
        "print(\"Dataset antes da transformação e correção:\\n\", df_intermediate.isnull().sum().sort_values(ascending = False))\n",
        "\n",
        "df_intermediate.TotalCharges.fillna(df_intermediate.TotalCharges.median(), inplace = True)\n",
        "print(\"\\nDataset dedois da transformação e correção:\\n\",df_intermediate.isnull().sum().sort_values(ascending = False))"
      ],
      "metadata": {
        "id": "5hgaztvqzcSn",
        "colab": {
          "base_uri": "https://localhost:8080/"
        },
        "outputId": "69ac5dea-9d43-4600-db71-7039284a61a4"
      },
      "execution_count": 40,
      "outputs": [
        {
          "output_type": "stream",
          "name": "stdout",
          "text": [
            "Dataset antes da transformação e correção:\n",
            " TotalCharges        11\n",
            "gender               0\n",
            "SeniorCitizen        0\n",
            "MonthlyCharges       0\n",
            "PaymentMethod        0\n",
            "PaperlessBilling     0\n",
            "Contract             0\n",
            "StreamingMovies      0\n",
            "StreamingTV          0\n",
            "TechSupport          0\n",
            "DeviceProtection     0\n",
            "OnlineBackup         0\n",
            "OnlineSecurity       0\n",
            "InternetService      0\n",
            "MultipleLines        0\n",
            "PhoneService         0\n",
            "tenure               0\n",
            "Dependents           0\n",
            "Partner              0\n",
            "Churn                0\n",
            "dtype: int64\n",
            "\n",
            "Dataset dedois da transformação e correção:\n",
            " gender              0\n",
            "SeniorCitizen       0\n",
            "TotalCharges        0\n",
            "MonthlyCharges      0\n",
            "PaymentMethod       0\n",
            "PaperlessBilling    0\n",
            "Contract            0\n",
            "StreamingMovies     0\n",
            "StreamingTV         0\n",
            "TechSupport         0\n",
            "DeviceProtection    0\n",
            "OnlineBackup        0\n",
            "OnlineSecurity      0\n",
            "InternetService     0\n",
            "MultipleLines       0\n",
            "PhoneService        0\n",
            "tenure              0\n",
            "Dependents          0\n",
            "Partner             0\n",
            "Churn               0\n",
            "dtype: int64\n"
          ]
        }
      ]
    },
    {
      "cell_type": "markdown",
      "source": [
        "11 entradas da variável `TotalCharges` foram substituídas pela mediana, já que estavam nulas."
      ],
      "metadata": {
        "id": "LqUqRxAUm2SA"
      }
    },
    {
      "cell_type": "code",
      "source": [
        "df_intermediate.info()"
      ],
      "metadata": {
        "colab": {
          "base_uri": "https://localhost:8080/"
        },
        "id": "VgPHngb1u2ro",
        "outputId": "d32ce34c-ae6b-47c3-b605-8d7ab61a3024"
      },
      "execution_count": 5,
      "outputs": [
        {
          "output_type": "stream",
          "name": "stdout",
          "text": [
            "<class 'pandas.core.frame.DataFrame'>\n",
            "RangeIndex: 7043 entries, 0 to 7042\n",
            "Data columns (total 20 columns):\n",
            " #   Column            Non-Null Count  Dtype  \n",
            "---  ------            --------------  -----  \n",
            " 0   gender            7043 non-null   object \n",
            " 1   SeniorCitizen     7043 non-null   int64  \n",
            " 2   Partner           7043 non-null   object \n",
            " 3   Dependents        7043 non-null   object \n",
            " 4   tenure            7043 non-null   int64  \n",
            " 5   PhoneService      7043 non-null   object \n",
            " 6   MultipleLines     7043 non-null   object \n",
            " 7   InternetService   7043 non-null   object \n",
            " 8   OnlineSecurity    7043 non-null   object \n",
            " 9   OnlineBackup      7043 non-null   object \n",
            " 10  DeviceProtection  7043 non-null   object \n",
            " 11  TechSupport       7043 non-null   object \n",
            " 12  StreamingTV       7043 non-null   object \n",
            " 13  StreamingMovies   7043 non-null   object \n",
            " 14  Contract          7043 non-null   object \n",
            " 15  PaperlessBilling  7043 non-null   object \n",
            " 16  PaymentMethod     7043 non-null   object \n",
            " 17  MonthlyCharges    7043 non-null   float64\n",
            " 18  TotalCharges      7043 non-null   float64\n",
            " 19  Churn             7043 non-null   object \n",
            "dtypes: float64(2), int64(2), object(16)\n",
            "memory usage: 1.1+ MB\n"
          ]
        }
      ]
    },
    {
      "cell_type": "markdown",
      "source": [
        "Com as mudanças feitas, é hora de analisar os demais ruídos do nosso banco de dados.\n",
        "\n",
        "Vamos começar analisando a possível existência de outliers nas variáveis quantitativas, através do método do Boxplot"
      ],
      "metadata": {
        "id": "58NSNrcnoZNw"
      }
    },
    {
      "cell_type": "code",
      "source": [
        "fig, ax = plt.subplots(1, 2, figsize = (12, 4))\n",
        "\n",
        "sns.boxplot(df_intermediate.TotalCharges, ax = ax[0])\n",
        "sns.boxplot(df_intermediate.MonthlyCharges, ax = ax[1])\n",
        "plt.tight_layout(0);"
      ],
      "metadata": {
        "colab": {
          "base_uri": "https://localhost:8080/",
          "height": 319
        },
        "id": "QhiUcNnXvOJD",
        "outputId": "0e21e674-7913-458c-cbe0-2e17a469da00"
      },
      "execution_count": 6,
      "outputs": [
        {
          "output_type": "display_data",
          "data": {
            "text/plain": [
              "<Figure size 864x288 with 2 Axes>"
            ],
            "image/png": "[encoded data removed]"
          },
          "metadata": {
            "needs_background": "light"
          }
        }
      ]
    },
    {
      "cell_type": "markdown",
      "source": [
        "A visualização do Boxplot demonstra que a base de dados não possui outliers, o que é excelente para a nossa análise.\n",
        "\n",
        "Agora, vamos conferir a distribuição das variáveis `TotalCharges`e `MonthlyCharges`.\n",
        "\n",
        "Para isso, utilizaremos o método de Shapiro-Wilk. Para isso, consideraremos um nível de significância de 5%. \n",
        "\n",
        "Ou seja, para atestar a normalidade das distribuições, buscamos um p-valor acima de 5%, que aceita a hipótese nula de normalidade."
      ],
      "metadata": {
        "id": "T5ndj5C5oioV"
      }
    },
    {
      "cell_type": "code",
      "source": [
        "from scipy import stats\n",
        "test_shapiro = [df_intermediate.TotalCharges, df_intermediate.MonthlyCharges]\n",
        "\n",
        "for feature in test_shapiro:\n",
        "  stats.shapiro(feature)\n",
        "  if stats.shapiro(feature).pvalue < 0.05:\n",
        "    print(f\"P-valor de {feature.name} =\",stats.shapiro(feature).pvalue)\n",
        "    print(\"P-valor < 5%, então rejeitamos h0. Portanto, a distribuição de {} não é normal\\n\".format(feature.name))\n",
        "  else:\n",
        "    print(f\"P-valor de {feature.name} =\",stats.shapiro(feature).pvalue)\n",
        "    print(\"P-valor > 5%, então aceitamos h0. Portanto, a distribuição de {} é normal\".format(feature))"
      ],
      "metadata": {
        "colab": {
          "base_uri": "https://localhost:8080/"
        },
        "id": "85l4uStOnD16",
        "outputId": "181be882-ed5a-4d32-a1ff-4e3fc6713f38"
      },
      "execution_count": 50,
      "outputs": [
        {
          "output_type": "stream",
          "name": "stdout",
          "text": [
            "P-valor de TotalCharges = 0.0\n",
            "P-valor < 5%, então rejeitamos h0. Portanto, a distribuição de TotalCharges não é normal\n",
            "\n",
            "P-valor de MonthlyCharges = 0.0\n",
            "P-valor < 5%, então rejeitamos h0. Portanto, a distribuição de MonthlyCharges não é normal\n",
            "\n"
          ]
        }
      ]
    },
    {
      "cell_type": "markdown",
      "source": [
        "O teste de Shapiro-Wilk demonstra que as distribuições analisadas não são normais, com um p-valor próximo de 0.\n",
        "\n",
        "Para concluirmos esse tópico, vamos analisar graficamente as distribuições, comparando-as com uma normal, em questão de Assimetria e Curtose."
      ],
      "metadata": {
        "id": "6mXQGMcjpANw"
      }
    },
    {
      "cell_type": "code",
      "source": [
        "fig, ax = plt.subplots(1, 2, figsize = (12, 6))\n",
        "\n",
        "sns.distplot(df_intermediate.TotalCharges, norm_hist = True, ax = ax[0], color = \"royalblue\")\n",
        "ax[0].set_title(\"TotalCharges\")\n",
        "ax[0].spines[\"right\"].set_visible(False)\n",
        "ax[0].spines[\"top\"].set_visible(False)\n",
        "\n",
        "sns.distplot(df_intermediate.MonthlyCharges, norm_hist = True, ax = ax[1], color = \"royalblue\")\n",
        "ax[1].set_title(\"MonthlyCharges\")\n",
        "ax[1].spines[\"right\"].set_visible(False)\n",
        "ax[1].spines[\"top\"].set_visible(False)\n",
        "\n",
        "\n",
        "plt.suptitle(\"Distribuições das variáveis numéricas\", fontsize = 16, y = 1.05)\n",
        "\n",
        "plt.tight_layout();"
      ],
      "metadata": {
        "colab": {
          "base_uri": "https://localhost:8080/",
          "height": 474
        },
        "id": "MgV68fB0DIJ3",
        "outputId": "3680b419-31c5-4fe8-c50c-e55648f7417c"
      },
      "execution_count": 8,
      "outputs": [
        {
          "output_type": "display_data",
          "data": {
            "text/plain": [
              "<Figure size 864x432 with 2 Axes>"
            ],
            "image/png": "[encoded data removed]"
          },
          "metadata": {
            "needs_background": "light"
          }
        }
      ]
    },
    {
      "cell_type": "markdown",
      "source": [
        "Como é possível observar, nenhuma das variáveis quantitativas possui uma distribuição normal. \n",
        "\n",
        "\n",
        "Ambas possuem claros problemas de Assimetria e Curtose."
      ],
      "metadata": {
        "id": "Vh3VmWWWmEPI"
      }
    },
    {
      "cell_type": "code",
      "source": [
        "fig, ax = plt.subplots(figsize = (12, 4))\n",
        "sns.countplot(df_intermediate.tenure)\n",
        "plt.tight_layout();"
      ],
      "metadata": {
        "colab": {
          "base_uri": "https://localhost:8080/",
          "height": 297
        },
        "id": "u4HmP56NzV9j",
        "outputId": "375ef49f-7b80-4d2e-e5c9-39c4a5193843"
      },
      "execution_count": 9,
      "outputs": [
        {
          "output_type": "display_data",
          "data": {
            "text/plain": [
              "<Figure size 864x288 with 1 Axes>"
            ],
            "image/png": "[encoded data removed]"
          },
          "metadata": {
            "needs_background": "light"
          }
        }
      ]
    },
    {
      "cell_type": "markdown",
      "source": [
        "A variável `tenure` demonstra, em meses, há quanto tempo os assinantes assinaram o serviço antes de cancelar / estão assinando o serviço.\n",
        "\n",
        "É possível visualizar que a esmagadora maioria dos clientes se encontra nos primeiros meses de assinatura, entre 1 e 4 meses.\n",
        "\n",
        "Ademais, pode-se observar outra concentração no outro extremo da variável, com vários clientes assinando o serviço há cerca de 70 meses"
      ],
      "metadata": {
        "id": "kRWmuuwCrb5a"
      }
    },
    {
      "cell_type": "code",
      "source": [
        "df_intermediate.groupby(\"Churn\")[\"tenure\"].mean()"
      ],
      "metadata": {
        "colab": {
          "base_uri": "https://localhost:8080/"
        },
        "id": "CCPlZ11zsk39",
        "outputId": "67b2ea47-f030-4a8b-97d6-84d1b716a9a6"
      },
      "execution_count": 10,
      "outputs": [
        {
          "output_type": "execute_result",
          "data": {
            "text/plain": [
              "Churn\n",
              "No     37.569965\n",
              "Yes    17.979133\n",
              "Name: tenure, dtype: float64"
            ]
          },
          "metadata": {},
          "execution_count": 10
        }
      ]
    },
    {
      "cell_type": "markdown",
      "source": [
        "Os números nos mostram que clientes que assinam o serviço há mais tempo são menos propensos a cancelarem suas assinaturas.\n",
        "\n",
        "Enquanto a média de `tenure` de clientes que cancelaram a assinatura é de 18 meses, a média para clientes ainda fiéis é de 37.5 meses.\n",
        "\n",
        "Isso demonstra que, visando a diminuição da taxa de churn, é interessante que a empresa implemente campanhas especiais voltadas para novos assinantes, visando garantir maior permanência na assinatura.\n",
        "\n",
        "Uma medida possível é a criação de planos mais longos, com vantagens especiais, como bônus, descontos em outras assinaturas (streamings, por exemplo), parcerias, e afins."
      ],
      "metadata": {
        "id": "bYkQMTmXR3tY"
      }
    },
    {
      "cell_type": "code",
      "source": [
        "df_intermediate.groupby(\"Churn\")[\"MonthlyCharges\"].mean()"
      ],
      "metadata": {
        "colab": {
          "base_uri": "https://localhost:8080/"
        },
        "id": "r9uPTYXDVqAv",
        "outputId": "0e45aef9-e405-407e-ca93-a1025dc5d850"
      },
      "execution_count": 11,
      "outputs": [
        {
          "output_type": "execute_result",
          "data": {
            "text/plain": [
              "Churn\n",
              "No     61.265124\n",
              "Yes    74.441332\n",
              "Name: MonthlyCharges, dtype: float64"
            ]
          },
          "metadata": {},
          "execution_count": 11
        }
      ]
    },
    {
      "cell_type": "code",
      "source": [
        "df_intermediate.groupby(\"Churn\")[\"TotalCharges\"].mean()"
      ],
      "metadata": {
        "colab": {
          "base_uri": "https://localhost:8080/"
        },
        "id": "9e8-WBmwXhCu",
        "outputId": "214d1794-a4e4-4b7e-bcc3-4466fc0ea2ab"
      },
      "execution_count": 12,
      "outputs": [
        {
          "output_type": "execute_result",
          "data": {
            "text/plain": [
              "Churn\n",
              "No     2552.882494\n",
              "Yes    1531.796094\n",
              "Name: TotalCharges, dtype: float64"
            ]
          },
          "metadata": {},
          "execution_count": 12
        }
      ]
    },
    {
      "cell_type": "markdown",
      "source": [
        "Esses outros dados nos mostram que, apesar de os clientes que não cancelaram suas assinaturas terem pago um valor total maior (pois são clientes há mais tempo), a média de gastos mensal dos clientes que cancelaram seus planos é maior.\n",
        "\n",
        "Uma recomendação para a empresa é focar nos planos que exigem maior fidelidade do cliente, mas que possuem valores mensais menores nos primeiros meses.\n",
        "\n",
        "Isso diminuiria a sensação de gasto do consumidor, e aumentaria sua fidelidade para com a empresa, visto que a barreira dos primeiros meses já teria sido quebrada."
      ],
      "metadata": {
        "id": "cetcapcQX1Kg"
      }
    },
    {
      "cell_type": "code",
      "source": [
        "fig, ax = plt.subplots(figsize = (12, 4))\n",
        "sns.countplot(df_intermediate.gender)\n",
        "plt.tight_layout();"
      ],
      "metadata": {
        "colab": {
          "base_uri": "https://localhost:8080/",
          "height": 297
        },
        "id": "y1-nBrZT0DBt",
        "outputId": "3ac1edd8-ba7c-4d70-c01d-0267e05d8d43"
      },
      "execution_count": 13,
      "outputs": [
        {
          "output_type": "display_data",
          "data": {
            "text/plain": [
              "<Figure size 864x288 with 1 Axes>"
            ],
            "image/png": "[encoded data removed]"
          },
          "metadata": {
            "needs_background": "light"
          }
        }
      ]
    },
    {
      "cell_type": "code",
      "source": [
        "fig, ax = plt.subplots(figsize = (12, 4))\n",
        "sns.countplot(df_intermediate.Dependents)\n",
        "plt.tight_layout();"
      ],
      "metadata": {
        "colab": {
          "base_uri": "https://localhost:8080/",
          "height": 297
        },
        "id": "5t9nlIJd0HPC",
        "outputId": "2ff0596a-ce88-4150-868d-283323f3d26c"
      },
      "execution_count": 14,
      "outputs": [
        {
          "output_type": "display_data",
          "data": {
            "text/plain": [
              "<Figure size 864x288 with 1 Axes>"
            ],
            "image/png": "[encoded data removed]"
          },
          "metadata": {
            "needs_background": "light"
          }
        }
      ]
    },
    {
      "cell_type": "code",
      "source": [
        "fig, ax = plt.subplots(figsize = (10, 6))\n",
        "\n",
        "sns.heatmap(df_intermediate.corr(), annot = True, cmap = \"Blues\")\n",
        "ax.set_title(\"Correlação de Pearson entre as variáveis\")\n",
        "\n",
        "plt.tight_layout();"
      ],
      "metadata": {
        "id": "yuvZRSMkFA3W",
        "colab": {
          "base_uri": "https://localhost:8080/",
          "height": 441
        },
        "outputId": "5c3ccb89-7afa-4cb6-d961-d5708ae0ff84"
      },
      "execution_count": 15,
      "outputs": [
        {
          "output_type": "display_data",
          "data": {
            "text/plain": [
              "<Figure size 720x432 with 2 Axes>"
            ],
            "image/png": "[encoded data removed]"
          },
          "metadata": {
            "needs_background": "light"
          }
        }
      ]
    },
    {
      "cell_type": "markdown",
      "source": [
        "Como esperado, `tenure` tem alta correlação com `TotalCharges`, assim como `MonthlyCharges`"
      ],
      "metadata": {
        "id": "I5YaTKsMlMzx"
      }
    },
    {
      "cell_type": "markdown",
      "source": [
        "# Preparando os Dados"
      ],
      "metadata": {
        "id": "0Nbq3fLU9zh-"
      }
    },
    {
      "cell_type": "markdown",
      "source": [
        "Com a Análise Exploratória, foi possível pensarmos em alguns insights muito interessantes sobre o negócio e possíveis abordagens sobre o problema da Churn Rate.\n",
        "\n",
        "Agora, é hora de criarmos um modelo preditivo classificatório, para que possamos prever quando um cliente"
      ],
      "metadata": {
        "id": "8KsHKpKTl-V9"
      }
    },
    {
      "cell_type": "markdown",
      "source": [
        "Nessa primeira etapa, será feito um split entre dados de treino e de teste.\n",
        "\n",
        "Logo em seguida, será realizado o pré-processamento dos dados, em que o OneHotEncoder será aplicado para as variáveis categóricas, o LabelEncoder para variáveis binárias e o StandardScaler para variáveis numéricas"
      ],
      "metadata": {
        "id": "swEzEhZmg5Z3"
      }
    },
    {
      "cell_type": "code",
      "source": [
        "df = df_intermediate.copy()\n",
        "\n",
        "#Train-test split\n",
        "X = df.drop(\"Churn\", axis = 1)\n",
        "y = df.Churn\n",
        "\n",
        "X_train, X_test, y_train, y_test = train_test_split(X, y, test_size = 0.3, shuffle = True, stratify = y, random_state = 0)\n",
        "\n",
        "variaveis_binarias = X.nunique()[X.nunique() == 2].keys().tolist()\n",
        "variaveis_numericas =[col for col in X.select_dtypes([\"int\", \"float\"]).columns.tolist() if col not in variaveis_binarias]\n",
        "variaveis_categoricas = [col for col in X.columns.tolist() if col not in variaveis_numericas + variaveis_binarias]\n",
        "\n",
        "#Variáveis binárias\n",
        "le = LabelEncoder()\n",
        "\n",
        "for i in variaveis_binarias:\n",
        "  X_train[i] = le.fit_transform(X_train[i])\n",
        "  X_test[i] = le.transform(X_test[i])\n",
        "\n",
        "y_train = le.transform(y_train)\n",
        "y_test = le.transform(y_test)\n",
        "\n",
        "#Variáveis categóricas\n",
        "ohe = OneHotEncoder(handle_unknown = \"ignore\").fit(X_train)\n",
        "X_train = ohe.transform(X_train)\n",
        "X_test = ohe.transform(X_test)\n",
        "\n",
        "#Variáveis numéricas\n",
        "sc = StandardScaler(with_mean = False).fit(X_train)\n",
        "X_train = sc.transform(X_train)\n",
        "X_test = sc.transform(X_test)"
      ],
      "metadata": {
        "id": "2KnHfFDdLrJn"
      },
      "execution_count": 16,
      "outputs": []
    },
    {
      "cell_type": "markdown",
      "source": [
        "Primeiramente, precisamos descobrir se os dados estão ou não balanceados. Para isso, podemos usar os dados do `df_intermediate`"
      ],
      "metadata": {
        "id": "I0ZF5L9RhOHe"
      }
    },
    {
      "cell_type": "code",
      "source": [
        "print(\"Distribuição de ocorrências da variável Churn: \\n\", df_intermediate.Churn.value_counts())\n",
        "\n",
        "fig, ax = plt.subplots(figsize = (10, 6))\n",
        "sns.countplot(df_intermediate.Churn)\n",
        "plt.show();"
      ],
      "metadata": {
        "colab": {
          "base_uri": "https://localhost:8080/",
          "height": 457
        },
        "id": "eueK3ihlhuBW",
        "outputId": "ba9bbd5d-2424-4cf3-ff64-50d11987df6b"
      },
      "execution_count": 31,
      "outputs": [
        {
          "output_type": "stream",
          "name": "stdout",
          "text": [
            "Distribuição de ocorrências da variável Churn: \n",
            " No     5174\n",
            "Yes    1869\n",
            "Name: Churn, dtype: int64\n"
          ]
        },
        {
          "output_type": "display_data",
          "data": {
            "text/plain": [
              "<Figure size 720x432 with 1 Axes>"
            ],
            "image/png": "[encoded data removed]"
          },
          "metadata": {
            "needs_background": "light"
          }
        }
      ]
    },
    {
      "cell_type": "markdown",
      "source": [
        "Claramente, os dados estão desbalanceados, e isso pode prejudicar gravemente o _recall_ do nosso modelo. \n",
        "\n",
        "Para comprovar isso, primeiramente faremos um rápido baseline, com os dados desbalanceados, para mostrar como o modelo seria impreciso."
      ],
      "metadata": {
        "id": "jZQ4fUXJiUJq"
      }
    },
    {
      "cell_type": "markdown",
      "source": [
        "O modelo escolhido para o baseline será o RandomForestClassifier"
      ],
      "metadata": {
        "id": "0FmuJJ47isp6"
      }
    },
    {
      "cell_type": "code",
      "source": [
        "#Escolhendo o modelo\n",
        "rf = RandomForestClassifier()\n",
        "\n",
        "#Cross-validation com 10 folds\n",
        "kfold = StratifiedKFold(n_splits = 10, shuffle = True, random_state = 0)\n",
        "\n",
        "scores = cross_val_score(rf, X_train, y_train, scoring = \"recall\", cv = kfold)\n",
        "print(\"Recall: {:.2f} (+/- {:.2f})\".format(scores.mean(), scores.std()))"
      ],
      "metadata": {
        "id": "of9yAwi7PZpC",
        "colab": {
          "base_uri": "https://localhost:8080/"
        },
        "outputId": "d02b3408-264b-4d53-8c44-e79ff07823d0"
      },
      "execution_count": 17,
      "outputs": [
        {
          "output_type": "stream",
          "name": "stdout",
          "text": [
            "Recall: 0.44 (+/- 0.04)\n"
          ]
        }
      ]
    },
    {
      "cell_type": "markdown",
      "source": [
        "0.44 é um recall muito baixo, e isso demonstra ainda mais porque o balanceamento do nosso modelo é extremamente necessário.\n",
        "\n",
        "Utilizaremos o método do RandomUnderSampler para essa função."
      ],
      "metadata": {
        "id": "DewSXZpyi1fO"
      }
    },
    {
      "cell_type": "code",
      "source": [
        "rus = RandomUnderSampler()\n",
        "X_train_rus, y_train_rus = rus.fit_resample(X_train, y_train)"
      ],
      "metadata": {
        "id": "xuG7KlMpqvJS"
      },
      "execution_count": 18,
      "outputs": []
    },
    {
      "cell_type": "markdown",
      "source": [
        "Com os dados balanceados, iremos testar qual o melhor opção de modelos para a construção do nosso preditor final de Churn Prediction."
      ],
      "metadata": {
        "id": "Dzm7E-JOjWE9"
      }
    },
    {
      "cell_type": "code",
      "source": [
        "#Selecionando opções de modelos\n",
        "rf = RandomForestClassifier()\n",
        "dt = DecisionTreeClassifier()\n",
        "sgdc = SGDClassifier()\n",
        "svc = SVC()\n",
        "lr = LogisticRegression(solver='lbfgs', max_iter=1000)\n",
        "xgb = XGBClassifier()\n",
        "lgbm = LGBMClassifier()\n",
        "\n",
        "model = []\n",
        "recall = []\n",
        "\n",
        "for clf in (rf, dt, sgdc, svc, lr, xgb, lgbm):\n",
        "  model.append(clf.__class__.__name__)\n",
        "  scores = cross_val_score(clf, X_train_rus, y_train_rus, scoring = \"recall\", cv = kfold)\n",
        "  recall.append(scores.mean())\n",
        "\n",
        "  tests = pd.DataFrame(data=recall, index=model, columns=['Recall'])\n",
        "\n",
        "tests"
      ],
      "metadata": {
        "id": "I0JaqQuSqvG2",
        "colab": {
          "base_uri": "https://localhost:8080/",
          "height": 269
        },
        "outputId": "ea21ffd0-429f-48af-ea64-f3de9f82f103"
      },
      "execution_count": 19,
      "outputs": [
        {
          "output_type": "execute_result",
          "data": {
            "text/plain": [
              "                          Recall\n",
              "RandomForestClassifier  0.788209\n",
              "DecisionTreeClassifier  0.739237\n",
              "SGDClassifier           0.725526\n",
              "SVC                     0.754592\n",
              "LogisticRegression      0.770664\n",
              "XGBClassifier           0.795860\n",
              "LGBMClassifier          0.765238"
            ],
            "text/html": [
              "\n",
              "  <div id=\"df-9be86412-5d28-46f5-81f4-75f7ff4544a5\">\n",
              "    <div class=\"colab-df-container\">\n",
              "      <div>\n",
              "<style scoped>\n",
              "    .dataframe tbody tr th:only-of-type {\n",
              "        vertical-align: middle;\n",
              "    }\n",
              "\n",
              "    .dataframe tbody tr th {\n",
              "        vertical-align: top;\n",
              "    }\n",
              "\n",
              "    .dataframe thead th {\n",
              "        text-align: right;\n",
              "    }\n",
              "</style>\n",
              "<table border=\"1\" class=\"dataframe\">\n",
              "  <thead>\n",
              "    <tr style=\"text-align: right;\">\n",
              "      <th></th>\n",
              "      <th>Recall</th>\n",
              "    </tr>\n",
              "  </thead>\n",
              "  <tbody>\n",
              "    <tr>\n",
              "      <th>RandomForestClassifier</th>\n",
              "      <td>0.788209</td>\n",
              "    </tr>\n",
              "    <tr>\n",
              "      <th>DecisionTreeClassifier</th>\n",
              "      <td>0.739237</td>\n",
              "    </tr>\n",
              "    <tr>\n",
              "      <th>SGDClassifier</th>\n",
              "      <td>0.725526</td>\n",
              "    </tr>\n",
              "    <tr>\n",
              "      <th>SVC</th>\n",
              "      <td>0.754592</td>\n",
              "    </tr>\n",
              "    <tr>\n",
              "      <th>LogisticRegression</th>\n",
              "      <td>0.770664</td>\n",
              "    </tr>\n",
              "    <tr>\n",
              "      <th>XGBClassifier</th>\n",
              "      <td>0.795860</td>\n",
              "    </tr>\n",
              "    <tr>\n",
              "      <th>LGBMClassifier</th>\n",
              "      <td>0.765238</td>\n",
              "    </tr>\n",
              "  </tbody>\n",
              "</table>\n",
              "</div>\n",
              "      <button class=\"colab-df-convert\" onclick=\"convertToInteractive('df-9be86412-5d28-46f5-81f4-75f7ff4544a5')\"\n",
              "              title=\"Convert this dataframe to an interactive table.\"\n",
              "              style=\"display:none;\">\n",
              "        \n",
              "  <svg xmlns=\"http://www.w3.org/2000/svg\" height=\"24px\"viewBox=\"0 0 24 24\"\n",
              "       width=\"24px\">\n",
              "    <path d=\"M0 0h24v24H0V0z\" fill=\"none\"/>\n",
              "    <path d=\"M18.56 5.44l.94 2.06.94-2.06 2.06-.94-2.06-.94-.94-2.06-.94 2.06-2.06.94zm-11 1L8.5 8.5l.94-2.06 2.06-.94-2.06-.94L8.5 2.5l-.94 2.06-2.06.94zm10 10l.94 2.06.94-2.06 2.06-.94-2.06-.94-.94-2.06-.94 2.06-2.06.94z\"/><path d=\"M17.41 7.96l-1.37-1.37c-.4-.4-.92-.59-1.43-.59-.52 0-1.04.2-1.43.59L10.3 9.45l-7.72 7.72c-.78.78-.78 2.05 0 2.83L4 21.41c.39.39.9.59 1.41.59.51 0 1.02-.2 1.41-.59l7.78-7.78 2.81-2.81c.8-.78.8-2.07 0-2.86zM5.41 20L4 18.59l7.72-7.72 1.47 1.35L5.41 20z\"/>\n",
              "  </svg>\n",
              "      </button>\n",
              "      \n",
              "  <style>\n",
              "    .colab-df-container {\n",
              "      display:flex;\n",
              "      flex-wrap:wrap;\n",
              "      gap: 12px;\n",
              "    }\n",
              "\n",
              "    .colab-df-convert {\n",
              "      background-color: #E8F0FE;\n",
              "      border: none;\n",
              "      border-radius: 50%;\n",
              "      cursor: pointer;\n",
              "      display: none;\n",
              "      fill: #1967D2;\n",
              "      height: 32px;\n",
              "      padding: 0 0 0 0;\n",
              "      width: 32px;\n",
              "    }\n",
              "\n",
              "    .colab-df-convert:hover {\n",
              "      background-color: #E2EBFA;\n",
              "      box-shadow: 0px 1px 2px rgba(60, 64, 67, 0.3), 0px 1px 3px 1px rgba(60, 64, 67, 0.15);\n",
              "      fill: #174EA6;\n",
              "    }\n",
              "\n",
              "    [theme=dark] .colab-df-convert {\n",
              "      background-color: #3B4455;\n",
              "      fill: #D2E3FC;\n",
              "    }\n",
              "\n",
              "    [theme=dark] .colab-df-convert:hover {\n",
              "      background-color: #434B5C;\n",
              "      box-shadow: 0px 1px 3px 1px rgba(0, 0, 0, 0.15);\n",
              "      filter: drop-shadow(0px 1px 2px rgba(0, 0, 0, 0.3));\n",
              "      fill: #FFFFFF;\n",
              "    }\n",
              "  </style>\n",
              "\n",
              "      <script>\n",
              "        const buttonEl =\n",
              "          document.querySelector('#df-9be86412-5d28-46f5-81f4-75f7ff4544a5 button.colab-df-convert');\n",
              "        buttonEl.style.display =\n",
              "          google.colab.kernel.accessAllowed ? 'block' : 'none';\n",
              "\n",
              "        async function convertToInteractive(key) {\n",
              "          const element = document.querySelector('#df-9be86412-5d28-46f5-81f4-75f7ff4544a5');\n",
              "          const dataTable =\n",
              "            await google.colab.kernel.invokeFunction('convertToInteractive',\n",
              "                                                     [key], {});\n",
              "          if (!dataTable) return;\n",
              "\n",
              "          const docLinkHtml = 'Like what you see? Visit the ' +\n",
              "            '<a target=\"_blank\" href=https://colab.research.google.com/notebooks/data_table.ipynb>data table notebook</a>'\n",
              "            + ' to learn more about interactive tables.';\n",
              "          element.innerHTML = '';\n",
              "          dataTable['output_type'] = 'display_data';\n",
              "          await google.colab.output.renderOutput(dataTable, element);\n",
              "          const docLink = document.createElement('div');\n",
              "          docLink.innerHTML = docLinkHtml;\n",
              "          element.appendChild(docLink);\n",
              "        }\n",
              "      </script>\n",
              "    </div>\n",
              "  </div>\n",
              "  "
            ]
          },
          "metadata": {},
          "execution_count": 19
        }
      ]
    },
    {
      "cell_type": "markdown",
      "source": [
        "O teste nos mostrou que o XGBClassifier foi o modelo com o melhor recall, então ele será escolhido para o tuning de hiperparâmetros, que é a etapa a seguir."
      ],
      "metadata": {
        "id": "O2M5mOPzjl8S"
      }
    },
    {
      "cell_type": "markdown",
      "source": [
        "Utilizaremos o RandomizedSearchCV para escolher os melhores hiperparâmetros. Decidi por esse método por conta da otimização da velocidade do modelo, sabendo que o GridSearchCV levaria muito tempo para testar todas as opções."
      ],
      "metadata": {
        "id": "Fzmg19VSjvq0"
      }
    },
    {
      "cell_type": "code",
      "source": [
        "xgb = XGBClassifier(learning_rate = 0.001)\n",
        "\n",
        "n_estimators = [int(x) for x in np.linspace(0, 1000, 50)]\n",
        "max_depth = [int(x) for x in np.linspace(1, 8, 1)]\n",
        "min_child_weight = [int(x) for x in np.linspace(1, 5, 1)]\n",
        "gamma = [int(i/10) for i in np.linspace(0, 5)]\n",
        "learning_rate = np.linspace(start=0.01, stop=1, num=200)\n",
        "\n",
        "random_grid = {\n",
        "    \"n_estimators\": n_estimators,\n",
        "    \"max_depth\": max_depth,\n",
        "    \"min_child_weight\": min_child_weight,\n",
        "    \"gamma\": gamma,\n",
        "    \"learning_rate\": learning_rate\n",
        "}\n",
        "\n",
        "grid_search = RandomizedSearchCV(xgb, random_grid, cv = kfold, scoring = 'recall', verbose = 2, n_jobs = -1, random_state= 0)\n",
        "grid_result = grid_search.fit(X_train_rus, y_train_rus)\n",
        "\n",
        "print(\"Melhores parâmetros: \", grid_search.best_params_, \"\\n\",\n",
        "      \"Resultado alcançado: \", grid_result.best_score_)"
      ],
      "metadata": {
        "id": "JW_CdoCgribB",
        "colab": {
          "base_uri": "https://localhost:8080/"
        },
        "outputId": "7cf4db13-b14b-4bb2-d957-c02925a00558"
      },
      "execution_count": 22,
      "outputs": [
        {
          "output_type": "stream",
          "name": "stdout",
          "text": [
            "Fitting 10 folds for each of 10 candidates, totalling 100 fits\n",
            "Melhores parâmetros:  {'n_estimators': 306, 'min_child_weight': 1, 'max_depth': 1, 'learning_rate': 0.23884422110552767, 'gamma': 0} \n",
            " Resultado alcançado:  0.806570757486788\n"
          ]
        }
      ]
    },
    {
      "cell_type": "code",
      "source": [
        "#Modelo final\n",
        "xgb = XGBClassifier(n_estimators = 306, min_child_weight = 1, max_depth = 1, learning_rate = 0.23884422110552767, gamma = 0)\n",
        "xgb.fit(X_train_rus, y_train_rus)\n",
        "\n",
        "#Previsão\n",
        "y_pred = xgb.predict(X_test)\n",
        "\n",
        "# Classification Report\n",
        "print(classification_report(y_test, y_pred))\n",
        "\n",
        "# imprimir a área sob a curva\n",
        "print(\"AUC: {:.4f}\\n\".format(roc_auc_score(y_test, y_pred)))\n",
        "\n",
        "# plotar matriz de confusão\n",
        "plot_confusion_matrix(y_test, y_pred, normalize=True)\n",
        "plt.show()"
      ],
      "metadata": {
        "id": "vi8UQSqwbHw4",
        "colab": {
          "base_uri": "https://localhost:8080/",
          "height": 486
        },
        "outputId": "2cdc3277-3dd9-436f-dbca-592f9b042060"
      },
      "execution_count": 26,
      "outputs": [
        {
          "output_type": "stream",
          "name": "stdout",
          "text": [
            "              precision    recall  f1-score   support\n",
            "\n",
            "           0       0.91      0.71      0.80      1552\n",
            "           1       0.50      0.81      0.62       561\n",
            "\n",
            "    accuracy                           0.74      2113\n",
            "   macro avg       0.71      0.76      0.71      2113\n",
            "weighted avg       0.80      0.74      0.75      2113\n",
            "\n",
            "AUC: 0.7615\n",
            "\n"
          ]
        },
        {
          "output_type": "display_data",
          "data": {
            "text/plain": [
              "<Figure size 432x288 with 2 Axes>"
            ],
            "image/png": "[encoded data removed]"
          },
          "metadata": {
            "needs_background": "light"
          }
        }
      ]
    },
    {
      "cell_type": "markdown",
      "source": [
        "# Conclusão"
      ],
      "metadata": {
        "id": "fbH576cOkBMN"
      }
    },
    {
      "cell_type": "markdown",
      "source": [
        "Este modelo conseguiu um recall de 81%, o que é excelente para toda e qualquer empresa de Telecomunicações que precise prever sua _churn rate_, visando maximizar seus lucros.\n",
        "\n",
        "Com a análise exploratória, já foi possível entender a importância da fidelização do cliente nos primeiros meses. Diria que esta deve ser a principal preocupação da companhia, e, nesta etapa, foram feitas algumas sugestões pontuais para que seja possível atingir este objetivo.\n",
        "\n",
        "Ademais, acredito que o modelo pode ser ainda melhor, com a utilização do GridSearchCV. Isso poderia tornar o tunig de hiperparâmetros ainda mais preciso."
      ],
      "metadata": {
        "id": "nDKQn9B1kxGt"
      }
    }
  ]
}